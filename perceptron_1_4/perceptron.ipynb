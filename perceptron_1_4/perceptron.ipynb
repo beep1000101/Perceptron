{
 "cells": [
  {
   "cell_type": "code",
   "execution_count": 1,
   "metadata": {
    "metadata": {}
   },
   "outputs": [],
   "source": [
    "import numpy as np\n",
    "import matplotlib.pyplot as plt\n",
    "\n",
    "from random import randint\n",
    "from sklearn.datasets import make_classification"
   ]
  },
  {
   "cell_type": "code",
   "execution_count": 2,
   "metadata": {},
   "outputs": [],
   "source": [
    "n_samples = 128\n",
    "n_features = 2\n",
    "n_informative = 2\n",
    "n_redundant = 0\n",
    "n_clusters_per_class = 1\n",
    "class_sep = 2\n",
    "random_state = randint(0, 10000)\n",
    "\n",
    "X, y = make_classification(\n",
    "    n_samples=n_samples,\n",
    "    n_features=n_features,\n",
    "    n_informative=n_informative,\n",
    "    n_redundant=n_redundant,\n",
    "    n_clusters_per_class=n_clusters_per_class,\n",
    "    class_sep=class_sep,\n",
    "    random_state=random_state\n",
    ")"
   ]
  },
  {
   "cell_type": "code",
   "execution_count": 3,
   "metadata": {},
   "outputs": [
    {
     "data": {
      "image/png": "[encoded data removed]",
      "text/plain": [
       "<Figure size 640x480 with 1 Axes>"
      ]
     },
     "metadata": {},
     "output_type": "display_data"
    }
   ],
   "source": [
    "plt.scatter(X[:,0], X[:,1], c=y)\n",
    "plt.title('Linearly separable data.')\n",
    "plt.show()"
   ]
  },
  {
   "cell_type": "code",
   "execution_count": 4,
   "metadata": {},
   "outputs": [],
   "source": [
    "weights = np.ones((X.shape[1] + 1, 1))"
   ]
  },
  {
   "cell_type": "code",
   "execution_count": 5,
   "metadata": {},
   "outputs": [
    {
     "data": {
      "text/plain": [
       "array([[1.],\n",
       "       [1.],\n",
       "       [1.]])"
      ]
     },
     "execution_count": 5,
     "metadata": {},
     "output_type": "execute_result"
    }
   ],
   "source": [
    "weights"
   ]
  },
  {
   "cell_type": "code",
   "execution_count": 6,
   "metadata": {},
   "outputs": [],
   "source": [
    "x_bias = np.hstack((np.ones((X.shape[0], 1)), X))"
   ]
  },
  {
   "cell_type": "code",
   "execution_count": 7,
   "metadata": {},
   "outputs": [
    {
     "data": {
      "text/plain": [
       "array([[1.],\n",
       "       [1.],\n",
       "       [1.]])"
      ]
     },
     "execution_count": 7,
     "metadata": {},
     "output_type": "execute_result"
    }
   ],
   "source": [
    "weights"
   ]
  },
  {
   "cell_type": "code",
   "execution_count": 8,
   "metadata": {},
   "outputs": [
    {
     "data": {
      "text/plain": [
       "array([[ 1.        , -2.37300646, -0.93465995],\n",
       "       [ 1.        ,  2.50633282,  2.7206209 ],\n",
       "       [ 1.        ,  2.58048804,  2.64409885],\n",
       "       [ 1.        ,  1.86177053,  1.85629139],\n",
       "       [ 1.        , -2.60264671, -0.43332195],\n",
       "       [ 1.        , -2.13792488, -1.83908469],\n",
       "       [ 1.        ,  1.19253015,  0.8983786 ],\n",
       "       [ 1.        ,  1.0951965 ,  0.81068438],\n",
       "       [ 1.        ,  0.51340472,  0.30317932],\n",
       "       [ 1.        , -1.90673704, -2.17473556],\n",
       "       [ 1.        ,  1.61056237,  1.35654948],\n",
       "       [ 1.        , -2.17751799, -1.66647969],\n",
       "       [ 1.        , -2.01653687, -1.83847436],\n",
       "       [ 1.        , -2.04470937, -1.93951505],\n",
       "       [ 1.        ,  2.1246053 ,  1.96593119],\n",
       "       [ 1.        , -2.46467029, -0.7983131 ],\n",
       "       [ 1.        , -1.23288466, -3.82369089],\n",
       "       [ 1.        ,  2.31961619,  2.28827793],\n",
       "       [ 1.        , -2.30089815, -1.25934167],\n",
       "       [ 1.        ,  1.88042616,  1.98106464],\n",
       "       [ 1.        , -2.1269254 , -1.73813282],\n",
       "       [ 1.        , -1.96392218, -2.18248028],\n",
       "       [ 1.        , -1.50202098, -3.07371801],\n",
       "       [ 1.        ,  2.34771391,  2.38065266],\n",
       "       [ 1.        ,  3.9147928 ,  3.99618356],\n",
       "       [ 1.        , -2.3317248 , -1.28819622],\n",
       "       [ 1.        ,  1.42619259,  1.03538627],\n",
       "       [ 1.        ,  2.75142433,  2.92856007],\n",
       "       [ 1.        ,  1.86015323,  1.85077008],\n",
       "       [ 1.        ,  2.14519663,  2.02535693],\n",
       "       [ 1.        ,  2.0606653 ,  1.91759929],\n",
       "       [ 1.        ,  2.29301754,  2.53904234],\n",
       "       [ 1.        ,  2.53225184,  2.34137578],\n",
       "       [ 1.        , -1.64193523, -2.96592192],\n",
       "       [ 1.        ,  2.4390706 ,  2.59666319],\n",
       "       [ 1.        , -1.6847861 , -2.67677577],\n",
       "       [ 1.        ,  0.00714431, -0.16333669],\n",
       "       [ 1.        , -2.25674962, -1.40005644],\n",
       "       [ 1.        ,  1.88381687,  1.65819066],\n",
       "       [ 1.        ,  2.15874319,  2.32080877],\n",
       "       [ 1.        ,  1.73190851,  1.88419125],\n",
       "       [ 1.        , -1.80652114, -2.32820626],\n",
       "       [ 1.        ,  1.95557632,  2.02942975],\n",
       "       [ 1.        ,  2.97241909,  3.08421338],\n",
       "       [ 1.        , -2.30114156, -1.16499584],\n",
       "       [ 1.        , -2.04179823, -1.63400349],\n",
       "       [ 1.        , -1.48039445, -3.32041541],\n",
       "       [ 1.        ,  2.29274287,  1.99100888],\n",
       "       [ 1.        ,  2.48123107,  2.75633814],\n",
       "       [ 1.        , -1.55425212, -3.145865  ],\n",
       "       [ 1.        , -1.74610888, -2.62779671],\n",
       "       [ 1.        ,  1.80383843,  2.00983701],\n",
       "       [ 1.        ,  2.85951075,  2.7927003 ],\n",
       "       [ 1.        , -2.03448962, -1.78703874],\n",
       "       [ 1.        , -2.58707937, -0.93894789],\n",
       "       [ 1.        ,  1.92666249,  1.87107837],\n",
       "       [ 1.        , -2.58581406, -0.7025225 ],\n",
       "       [ 1.        ,  2.64419471,  2.58824495],\n",
       "       [ 1.        , -2.20059863, -1.59104765],\n",
       "       [ 1.        , -2.14229441, -1.65189038],\n",
       "       [ 1.        , -2.35320033, -1.18071212],\n",
       "       [ 1.        , -2.25642887, -1.32851258],\n",
       "       [ 1.        , -2.09276229, -1.70912095],\n",
       "       [ 1.        , -1.5088342 , -3.18453364],\n",
       "       [ 1.        ,  3.03898071,  3.07067173],\n",
       "       [ 1.        , -1.80224033, -2.65396738],\n",
       "       [ 1.        , -1.56201296, -3.02685526],\n",
       "       [ 1.        , -2.11317663, -1.80520223],\n",
       "       [ 1.        ,  1.3484404 ,  1.07435056],\n",
       "       [ 1.        , -2.11150257, -1.81587397],\n",
       "       [ 1.        ,  1.92848787,  1.76456156],\n",
       "       [ 1.        ,  1.64115576,  1.92136153],\n",
       "       [ 1.        , -1.33677633, -3.5525584 ],\n",
       "       [ 1.        ,  3.21962967,  3.47161664],\n",
       "       [ 1.        ,  0.7959171 ,  0.4723733 ],\n",
       "       [ 1.        ,  2.86114771,  2.9004028 ],\n",
       "       [ 1.        , -2.32715755, -1.09352615],\n",
       "       [ 1.        ,  2.04409249,  2.25982791],\n",
       "       [ 1.        , -2.25917463, -1.24873712],\n",
       "       [ 1.        ,  2.19130735,  2.08892655],\n",
       "       [ 1.        ,  3.12775931,  3.29514015],\n",
       "       [ 1.        , -2.13703861, -1.50729581],\n",
       "       [ 1.        , -1.85067271, -2.46181788],\n",
       "       [ 1.        ,  2.65844141,  2.42633131],\n",
       "       [ 1.        , -1.86270401, -2.18377154],\n",
       "       [ 1.        , -2.04150151, -2.13070738],\n",
       "       [ 1.        , -1.44647173, -3.41289472],\n",
       "       [ 1.        ,  2.87492451,  3.10589076],\n",
       "       [ 1.        ,  2.09348983,  2.25994263],\n",
       "       [ 1.        ,  3.0561447 ,  3.0591976 ],\n",
       "       [ 1.        , -1.91444043, -2.26738858],\n",
       "       [ 1.        , -2.23110284, -1.33803025],\n",
       "       [ 1.        , -1.5839738 , -3.1076609 ],\n",
       "       [ 1.        ,  2.34898525,  2.33666676],\n",
       "       [ 1.        , -1.9664623 , -2.06945559],\n",
       "       [ 1.        , -2.07754965, -1.74751763],\n",
       "       [ 1.        ,  1.52812996,  1.54953267],\n",
       "       [ 1.        , -1.93138039, -2.19129447],\n",
       "       [ 1.        ,  2.08295806,  2.01779049],\n",
       "       [ 1.        ,  3.17364665,  3.18511587],\n",
       "       [ 1.        ,  0.13432048, -0.04375043],\n",
       "       [ 1.        ,  2.56514276,  2.61816487],\n",
       "       [ 1.        , -1.65318956, -2.92000909],\n",
       "       [ 1.        , -2.05697216, -1.84426077],\n",
       "       [ 1.        ,  2.55437913,  2.71767661],\n",
       "       [ 1.        , -1.439523  , -3.3250128 ],\n",
       "       [ 1.        , -2.39125904, -1.0197369 ],\n",
       "       [ 1.        ,  3.0226515 ,  3.47532683],\n",
       "       [ 1.        , -1.9461917 , -2.0786949 ],\n",
       "       [ 1.        ,  2.18754977,  1.75373655],\n",
       "       [ 1.        , -2.10033913, -1.70427073],\n",
       "       [ 1.        ,  2.71976782,  2.82133317],\n",
       "       [ 1.        , -1.86872848, -2.20176247],\n",
       "       [ 1.        ,  2.90874958,  2.83316589],\n",
       "       [ 1.        , -2.58588749, -0.71577674],\n",
       "       [ 1.        ,  2.03887854,  1.91872768],\n",
       "       [ 1.        , -2.19923756, -1.43347272],\n",
       "       [ 1.        , -2.13269071, -1.65556786],\n",
       "       [ 1.        , -1.69993239, -2.80311142],\n",
       "       [ 1.        ,  2.23997865,  2.15085109],\n",
       "       [ 1.        ,  1.97709992,  1.97634996],\n",
       "       [ 1.        ,  1.84880698,  1.52888777],\n",
       "       [ 1.        ,  1.68244354,  1.46100428],\n",
       "       [ 1.        , -1.88887608, -2.12624786],\n",
       "       [ 1.        , -1.88790471, -2.17381335],\n",
       "       [ 1.        , -1.73483412, -2.5965067 ],\n",
       "       [ 1.        ,  2.95146614,  3.00490715],\n",
       "       [ 1.        ,  2.21102408,  1.95472856]])"
      ]
     },
     "execution_count": 8,
     "metadata": {},
     "output_type": "execute_result"
    }
   ],
   "source": [
    "x_bias"
   ]
  },
  {
   "cell_type": "code",
   "execution_count": 9,
   "metadata": {},
   "outputs": [],
   "source": [
    "x_bias[y.T==0] = -x_bias[y.T==0]"
   ]
  },
  {
   "cell_type": "code",
   "execution_count": 10,
   "metadata": {},
   "outputs": [
    {
     "data": {
      "text/plain": [
       "array([[ 1.        , -2.37300646, -0.93465995],\n",
       "       [-1.        , -2.50633282, -2.7206209 ],\n",
       "       [-1.        , -2.58048804, -2.64409885],\n",
       "       [-1.        , -1.86177053, -1.85629139],\n",
       "       [ 1.        , -2.60264671, -0.43332195],\n",
       "       [ 1.        , -2.13792488, -1.83908469],\n",
       "       [-1.        , -1.19253015, -0.8983786 ],\n",
       "       [-1.        , -1.0951965 , -0.81068438],\n",
       "       [-1.        , -0.51340472, -0.30317932],\n",
       "       [ 1.        , -1.90673704, -2.17473556],\n",
       "       [-1.        , -1.61056237, -1.35654948],\n",
       "       [ 1.        , -2.17751799, -1.66647969],\n",
       "       [ 1.        , -2.01653687, -1.83847436],\n",
       "       [ 1.        , -2.04470937, -1.93951505],\n",
       "       [-1.        , -2.1246053 , -1.96593119],\n",
       "       [ 1.        , -2.46467029, -0.7983131 ],\n",
       "       [ 1.        , -1.23288466, -3.82369089],\n",
       "       [-1.        , -2.31961619, -2.28827793],\n",
       "       [ 1.        , -2.30089815, -1.25934167],\n",
       "       [-1.        , -1.88042616, -1.98106464],\n",
       "       [ 1.        , -2.1269254 , -1.73813282],\n",
       "       [ 1.        , -1.96392218, -2.18248028],\n",
       "       [ 1.        , -1.50202098, -3.07371801],\n",
       "       [-1.        , -2.34771391, -2.38065266],\n",
       "       [-1.        , -3.9147928 , -3.99618356],\n",
       "       [ 1.        , -2.3317248 , -1.28819622],\n",
       "       [-1.        , -1.42619259, -1.03538627],\n",
       "       [-1.        , -2.75142433, -2.92856007],\n",
       "       [-1.        , -1.86015323, -1.85077008],\n",
       "       [-1.        , -2.14519663, -2.02535693],\n",
       "       [-1.        , -2.0606653 , -1.91759929],\n",
       "       [-1.        , -2.29301754, -2.53904234],\n",
       "       [-1.        , -2.53225184, -2.34137578],\n",
       "       [ 1.        , -1.64193523, -2.96592192],\n",
       "       [-1.        , -2.4390706 , -2.59666319],\n",
       "       [ 1.        , -1.6847861 , -2.67677577],\n",
       "       [-1.        , -0.00714431,  0.16333669],\n",
       "       [ 1.        , -2.25674962, -1.40005644],\n",
       "       [-1.        , -1.88381687, -1.65819066],\n",
       "       [-1.        , -2.15874319, -2.32080877],\n",
       "       [-1.        , -1.73190851, -1.88419125],\n",
       "       [ 1.        , -1.80652114, -2.32820626],\n",
       "       [-1.        , -1.95557632, -2.02942975],\n",
       "       [-1.        , -2.97241909, -3.08421338],\n",
       "       [ 1.        , -2.30114156, -1.16499584],\n",
       "       [ 1.        , -2.04179823, -1.63400349],\n",
       "       [ 1.        , -1.48039445, -3.32041541],\n",
       "       [-1.        , -2.29274287, -1.99100888],\n",
       "       [-1.        , -2.48123107, -2.75633814],\n",
       "       [ 1.        , -1.55425212, -3.145865  ],\n",
       "       [ 1.        , -1.74610888, -2.62779671],\n",
       "       [-1.        , -1.80383843, -2.00983701],\n",
       "       [-1.        , -2.85951075, -2.7927003 ],\n",
       "       [ 1.        , -2.03448962, -1.78703874],\n",
       "       [ 1.        , -2.58707937, -0.93894789],\n",
       "       [-1.        , -1.92666249, -1.87107837],\n",
       "       [ 1.        , -2.58581406, -0.7025225 ],\n",
       "       [-1.        , -2.64419471, -2.58824495],\n",
       "       [ 1.        , -2.20059863, -1.59104765],\n",
       "       [ 1.        , -2.14229441, -1.65189038],\n",
       "       [ 1.        , -2.35320033, -1.18071212],\n",
       "       [ 1.        , -2.25642887, -1.32851258],\n",
       "       [ 1.        , -2.09276229, -1.70912095],\n",
       "       [ 1.        , -1.5088342 , -3.18453364],\n",
       "       [-1.        , -3.03898071, -3.07067173],\n",
       "       [ 1.        , -1.80224033, -2.65396738],\n",
       "       [ 1.        , -1.56201296, -3.02685526],\n",
       "       [ 1.        , -2.11317663, -1.80520223],\n",
       "       [-1.        , -1.3484404 , -1.07435056],\n",
       "       [ 1.        , -2.11150257, -1.81587397],\n",
       "       [-1.        , -1.92848787, -1.76456156],\n",
       "       [-1.        , -1.64115576, -1.92136153],\n",
       "       [ 1.        , -1.33677633, -3.5525584 ],\n",
       "       [-1.        , -3.21962967, -3.47161664],\n",
       "       [-1.        , -0.7959171 , -0.4723733 ],\n",
       "       [-1.        , -2.86114771, -2.9004028 ],\n",
       "       [ 1.        , -2.32715755, -1.09352615],\n",
       "       [-1.        , -2.04409249, -2.25982791],\n",
       "       [ 1.        , -2.25917463, -1.24873712],\n",
       "       [-1.        , -2.19130735, -2.08892655],\n",
       "       [-1.        , -3.12775931, -3.29514015],\n",
       "       [ 1.        , -2.13703861, -1.50729581],\n",
       "       [ 1.        , -1.85067271, -2.46181788],\n",
       "       [-1.        , -2.65844141, -2.42633131],\n",
       "       [ 1.        , -1.86270401, -2.18377154],\n",
       "       [ 1.        , -2.04150151, -2.13070738],\n",
       "       [ 1.        , -1.44647173, -3.41289472],\n",
       "       [-1.        , -2.87492451, -3.10589076],\n",
       "       [-1.        , -2.09348983, -2.25994263],\n",
       "       [-1.        , -3.0561447 , -3.0591976 ],\n",
       "       [ 1.        , -1.91444043, -2.26738858],\n",
       "       [ 1.        , -2.23110284, -1.33803025],\n",
       "       [ 1.        , -1.5839738 , -3.1076609 ],\n",
       "       [-1.        , -2.34898525, -2.33666676],\n",
       "       [ 1.        , -1.9664623 , -2.06945559],\n",
       "       [ 1.        , -2.07754965, -1.74751763],\n",
       "       [-1.        , -1.52812996, -1.54953267],\n",
       "       [ 1.        , -1.93138039, -2.19129447],\n",
       "       [-1.        , -2.08295806, -2.01779049],\n",
       "       [-1.        , -3.17364665, -3.18511587],\n",
       "       [-1.        , -0.13432048,  0.04375043],\n",
       "       [-1.        , -2.56514276, -2.61816487],\n",
       "       [ 1.        , -1.65318956, -2.92000909],\n",
       "       [ 1.        , -2.05697216, -1.84426077],\n",
       "       [-1.        , -2.55437913, -2.71767661],\n",
       "       [ 1.        , -1.439523  , -3.3250128 ],\n",
       "       [ 1.        , -2.39125904, -1.0197369 ],\n",
       "       [-1.        , -3.0226515 , -3.47532683],\n",
       "       [ 1.        , -1.9461917 , -2.0786949 ],\n",
       "       [-1.        , -2.18754977, -1.75373655],\n",
       "       [ 1.        , -2.10033913, -1.70427073],\n",
       "       [-1.        , -2.71976782, -2.82133317],\n",
       "       [ 1.        , -1.86872848, -2.20176247],\n",
       "       [-1.        , -2.90874958, -2.83316589],\n",
       "       [ 1.        , -2.58588749, -0.71577674],\n",
       "       [-1.        , -2.03887854, -1.91872768],\n",
       "       [ 1.        , -2.19923756, -1.43347272],\n",
       "       [ 1.        , -2.13269071, -1.65556786],\n",
       "       [ 1.        , -1.69993239, -2.80311142],\n",
       "       [-1.        , -2.23997865, -2.15085109],\n",
       "       [-1.        , -1.97709992, -1.97634996],\n",
       "       [-1.        , -1.84880698, -1.52888777],\n",
       "       [-1.        , -1.68244354, -1.46100428],\n",
       "       [ 1.        , -1.88887608, -2.12624786],\n",
       "       [ 1.        , -1.88790471, -2.17381335],\n",
       "       [ 1.        , -1.73483412, -2.5965067 ],\n",
       "       [-1.        , -2.95146614, -3.00490715],\n",
       "       [-1.        , -2.21102408, -1.95472856]])"
      ]
     },
     "execution_count": 10,
     "metadata": {},
     "output_type": "execute_result"
    }
   ],
   "source": [
    "x_bias"
   ]
  },
  {
   "cell_type": "code",
   "execution_count": 11,
   "metadata": {},
   "outputs": [],
   "source": [
    "learning_rate = .02\n",
    "duration = 100"
   ]
  },
  {
   "cell_type": "code",
   "execution_count": 12,
   "metadata": {},
   "outputs": [
    {
     "data": {
      "text/plain": [
       "array([[1.],\n",
       "       [1.],\n",
       "       [1.]])"
      ]
     },
     "execution_count": 12,
     "metadata": {},
     "output_type": "execute_result"
    }
   ],
   "source": [
    "weights"
   ]
  },
  {
   "cell_type": "code",
   "execution_count": 13,
   "metadata": {},
   "outputs": [
    {
     "data": {
      "text/plain": [
       "array([[-1],\n",
       "       [-1],\n",
       "       [-1],\n",
       "       [-1],\n",
       "       [-1],\n",
       "       [-1],\n",
       "       [-1],\n",
       "       [-1],\n",
       "       [-1],\n",
       "       [-1],\n",
       "       [-1],\n",
       "       [-1],\n",
       "       [-1],\n",
       "       [-1],\n",
       "       [-1],\n",
       "       [-1],\n",
       "       [-1],\n",
       "       [-1],\n",
       "       [-1],\n",
       "       [-1],\n",
       "       [-1],\n",
       "       [-1],\n",
       "       [-1],\n",
       "       [-1],\n",
       "       [-1],\n",
       "       [-1],\n",
       "       [-1],\n",
       "       [-1],\n",
       "       [-1],\n",
       "       [-1],\n",
       "       [-1],\n",
       "       [-1],\n",
       "       [-1],\n",
       "       [-1],\n",
       "       [-1],\n",
       "       [-1],\n",
       "       [-1],\n",
       "       [-1],\n",
       "       [-1],\n",
       "       [-1],\n",
       "       [-1],\n",
       "       [-1],\n",
       "       [-1],\n",
       "       [-1],\n",
       "       [-1],\n",
       "       [-1],\n",
       "       [-1],\n",
       "       [-1],\n",
       "       [-1],\n",
       "       [-1],\n",
       "       [-1],\n",
       "       [-1],\n",
       "       [-1],\n",
       "       [-1],\n",
       "       [-1],\n",
       "       [-1],\n",
       "       [-1],\n",
       "       [-1],\n",
       "       [-1],\n",
       "       [-1],\n",
       "       [-1],\n",
       "       [-1],\n",
       "       [-1],\n",
       "       [-1],\n",
       "       [-1],\n",
       "       [-1],\n",
       "       [-1],\n",
       "       [-1],\n",
       "       [-1],\n",
       "       [-1],\n",
       "       [-1],\n",
       "       [-1],\n",
       "       [-1],\n",
       "       [-1],\n",
       "       [-1],\n",
       "       [-1],\n",
       "       [-1],\n",
       "       [-1],\n",
       "       [-1],\n",
       "       [-1],\n",
       "       [-1],\n",
       "       [-1],\n",
       "       [-1],\n",
       "       [-1],\n",
       "       [-1],\n",
       "       [-1],\n",
       "       [-1],\n",
       "       [-1],\n",
       "       [-1],\n",
       "       [-1],\n",
       "       [-1],\n",
       "       [-1],\n",
       "       [-1],\n",
       "       [-1],\n",
       "       [-1],\n",
       "       [-1],\n",
       "       [-1],\n",
       "       [-1],\n",
       "       [-1],\n",
       "       [-1],\n",
       "       [-1],\n",
       "       [-1],\n",
       "       [-1],\n",
       "       [-1],\n",
       "       [-1],\n",
       "       [-1],\n",
       "       [-1],\n",
       "       [-1],\n",
       "       [-1],\n",
       "       [-1],\n",
       "       [-1],\n",
       "       [-1],\n",
       "       [-1],\n",
       "       [-1],\n",
       "       [-1],\n",
       "       [-1],\n",
       "       [-1],\n",
       "       [-1],\n",
       "       [-1],\n",
       "       [-1],\n",
       "       [-1],\n",
       "       [-1],\n",
       "       [-1],\n",
       "       [-1],\n",
       "       [-1],\n",
       "       [-1],\n",
       "       [-1],\n",
       "       [-1]])"
      ]
     },
     "execution_count": 13,
     "metadata": {},
     "output_type": "execute_result"
    }
   ],
   "source": [
    "np.where(x_bias@weights>0, 1, -1)"
   ]
  },
  {
   "cell_type": "code",
   "execution_count": 14,
   "metadata": {},
   "outputs": [],
   "source": [
    "# vectorized mapping for checking if classification was ok\n",
    "\n",
    "class_validity_map_template = {\n",
    "    1: 0,\n",
    "    -1: 1\n",
    "}\n",
    "vectorized_map = np.vectorize(class_validity_map_template.get)"
   ]
  },
  {
   "cell_type": "code",
   "execution_count": 15,
   "metadata": {},
   "outputs": [
    {
     "data": {
      "text/plain": [
       "128"
      ]
     },
     "execution_count": 15,
     "metadata": {},
     "output_type": "execute_result"
    }
   ],
   "source": [
    "y.size"
   ]
  },
  {
   "cell_type": "code",
   "execution_count": 16,
   "metadata": {},
   "outputs": [
    {
     "data": {
      "text/plain": [
       "array([[-1.        , -2.50633282, -2.7206209 ],\n",
       "       [-1.        , -2.58048804, -2.64409885],\n",
       "       [-1.        , -1.86177053, -1.85629139],\n",
       "       [-1.        , -1.19253015, -0.8983786 ],\n",
       "       [-1.        , -1.0951965 , -0.81068438],\n",
       "       [-1.        , -0.51340472, -0.30317932],\n",
       "       [-1.        , -1.61056237, -1.35654948],\n",
       "       [-1.        , -2.1246053 , -1.96593119],\n",
       "       [-1.        , -2.31961619, -2.28827793],\n",
       "       [-1.        , -1.88042616, -1.98106464],\n",
       "       [-1.        , -2.34771391, -2.38065266],\n",
       "       [-1.        , -3.9147928 , -3.99618356],\n",
       "       [-1.        , -1.42619259, -1.03538627],\n",
       "       [-1.        , -2.75142433, -2.92856007],\n",
       "       [-1.        , -1.86015323, -1.85077008],\n",
       "       [-1.        , -2.14519663, -2.02535693],\n",
       "       [-1.        , -2.0606653 , -1.91759929],\n",
       "       [-1.        , -2.29301754, -2.53904234],\n",
       "       [-1.        , -2.53225184, -2.34137578],\n",
       "       [-1.        , -2.4390706 , -2.59666319],\n",
       "       [-1.        , -0.00714431,  0.16333669],\n",
       "       [-1.        , -1.88381687, -1.65819066],\n",
       "       [-1.        , -2.15874319, -2.32080877],\n",
       "       [-1.        , -1.73190851, -1.88419125],\n",
       "       [-1.        , -1.95557632, -2.02942975],\n",
       "       [-1.        , -2.97241909, -3.08421338],\n",
       "       [-1.        , -2.29274287, -1.99100888],\n",
       "       [-1.        , -2.48123107, -2.75633814],\n",
       "       [-1.        , -1.80383843, -2.00983701],\n",
       "       [-1.        , -2.85951075, -2.7927003 ],\n",
       "       [-1.        , -1.92666249, -1.87107837],\n",
       "       [-1.        , -2.64419471, -2.58824495],\n",
       "       [-1.        , -3.03898071, -3.07067173],\n",
       "       [-1.        , -1.3484404 , -1.07435056],\n",
       "       [-1.        , -1.92848787, -1.76456156],\n",
       "       [-1.        , -1.64115576, -1.92136153],\n",
       "       [-1.        , -3.21962967, -3.47161664],\n",
       "       [-1.        , -0.7959171 , -0.4723733 ],\n",
       "       [-1.        , -2.86114771, -2.9004028 ],\n",
       "       [-1.        , -2.04409249, -2.25982791],\n",
       "       [-1.        , -2.19130735, -2.08892655],\n",
       "       [-1.        , -3.12775931, -3.29514015],\n",
       "       [-1.        , -2.65844141, -2.42633131],\n",
       "       [-1.        , -2.87492451, -3.10589076],\n",
       "       [-1.        , -2.09348983, -2.25994263],\n",
       "       [-1.        , -3.0561447 , -3.0591976 ],\n",
       "       [-1.        , -2.34898525, -2.33666676],\n",
       "       [-1.        , -1.52812996, -1.54953267],\n",
       "       [-1.        , -2.08295806, -2.01779049],\n",
       "       [-1.        , -3.17364665, -3.18511587],\n",
       "       [-1.        , -0.13432048,  0.04375043],\n",
       "       [-1.        , -2.56514276, -2.61816487],\n",
       "       [-1.        , -2.55437913, -2.71767661],\n",
       "       [-1.        , -3.0226515 , -3.47532683],\n",
       "       [-1.        , -2.18754977, -1.75373655],\n",
       "       [-1.        , -2.71976782, -2.82133317],\n",
       "       [-1.        , -2.90874958, -2.83316589],\n",
       "       [-1.        , -2.03887854, -1.91872768],\n",
       "       [-1.        , -2.23997865, -2.15085109],\n",
       "       [-1.        , -1.97709992, -1.97634996],\n",
       "       [-1.        , -1.84880698, -1.52888777],\n",
       "       [-1.        , -1.68244354, -1.46100428],\n",
       "       [-1.        , -2.95146614, -3.00490715],\n",
       "       [-1.        , -2.21102408, -1.95472856]])"
      ]
     },
     "execution_count": 16,
     "metadata": {},
     "output_type": "execute_result"
    }
   ],
   "source": [
    "# find elements that are not correctly classified\n",
    "_wrong_classification = (vectorized_map(np.where(x_bias@weights>0, 1, -1)) != y.reshape(y.size, 1))\n",
    "\n",
    "# to pass this index correctly use:\n",
    "x_bias[_wrong_classification[:, 0]]"
   ]
  },
  {
   "cell_type": "code",
   "execution_count": 17,
   "metadata": {},
   "outputs": [
    {
     "data": {
      "text/plain": [
       "array([[-1.        , -2.50633282, -2.7206209 ],\n",
       "       [-1.        , -2.58048804, -2.64409885],\n",
       "       [-1.        , -1.86177053, -1.85629139],\n",
       "       [-1.        , -1.19253015, -0.8983786 ],\n",
       "       [-1.        , -1.0951965 , -0.81068438],\n",
       "       [-1.        , -0.51340472, -0.30317932],\n",
       "       [-1.        , -1.61056237, -1.35654948],\n",
       "       [-1.        , -2.1246053 , -1.96593119],\n",
       "       [-1.        , -2.31961619, -2.28827793],\n",
       "       [-1.        , -1.88042616, -1.98106464],\n",
       "       [-1.        , -2.34771391, -2.38065266],\n",
       "       [-1.        , -3.9147928 , -3.99618356],\n",
       "       [-1.        , -1.42619259, -1.03538627],\n",
       "       [-1.        , -2.75142433, -2.92856007],\n",
       "       [-1.        , -1.86015323, -1.85077008],\n",
       "       [-1.        , -2.14519663, -2.02535693],\n",
       "       [-1.        , -2.0606653 , -1.91759929],\n",
       "       [-1.        , -2.29301754, -2.53904234],\n",
       "       [-1.        , -2.53225184, -2.34137578],\n",
       "       [-1.        , -2.4390706 , -2.59666319],\n",
       "       [-1.        , -0.00714431,  0.16333669],\n",
       "       [-1.        , -1.88381687, -1.65819066],\n",
       "       [-1.        , -2.15874319, -2.32080877],\n",
       "       [-1.        , -1.73190851, -1.88419125],\n",
       "       [-1.        , -1.95557632, -2.02942975],\n",
       "       [-1.        , -2.97241909, -3.08421338],\n",
       "       [-1.        , -2.29274287, -1.99100888],\n",
       "       [-1.        , -2.48123107, -2.75633814],\n",
       "       [-1.        , -1.80383843, -2.00983701],\n",
       "       [-1.        , -2.85951075, -2.7927003 ],\n",
       "       [-1.        , -1.92666249, -1.87107837],\n",
       "       [-1.        , -2.64419471, -2.58824495],\n",
       "       [-1.        , -3.03898071, -3.07067173],\n",
       "       [-1.        , -1.3484404 , -1.07435056],\n",
       "       [-1.        , -1.92848787, -1.76456156],\n",
       "       [-1.        , -1.64115576, -1.92136153],\n",
       "       [-1.        , -3.21962967, -3.47161664],\n",
       "       [-1.        , -0.7959171 , -0.4723733 ],\n",
       "       [-1.        , -2.86114771, -2.9004028 ],\n",
       "       [-1.        , -2.04409249, -2.25982791],\n",
       "       [-1.        , -2.19130735, -2.08892655],\n",
       "       [-1.        , -3.12775931, -3.29514015],\n",
       "       [-1.        , -2.65844141, -2.42633131],\n",
       "       [-1.        , -2.87492451, -3.10589076],\n",
       "       [-1.        , -2.09348983, -2.25994263],\n",
       "       [-1.        , -3.0561447 , -3.0591976 ],\n",
       "       [-1.        , -2.34898525, -2.33666676],\n",
       "       [-1.        , -1.52812996, -1.54953267],\n",
       "       [-1.        , -2.08295806, -2.01779049],\n",
       "       [-1.        , -3.17364665, -3.18511587],\n",
       "       [-1.        , -0.13432048,  0.04375043],\n",
       "       [-1.        , -2.56514276, -2.61816487],\n",
       "       [-1.        , -2.55437913, -2.71767661],\n",
       "       [-1.        , -3.0226515 , -3.47532683],\n",
       "       [-1.        , -2.18754977, -1.75373655],\n",
       "       [-1.        , -2.71976782, -2.82133317],\n",
       "       [-1.        , -2.90874958, -2.83316589],\n",
       "       [-1.        , -2.03887854, -1.91872768],\n",
       "       [-1.        , -2.23997865, -2.15085109],\n",
       "       [-1.        , -1.97709992, -1.97634996],\n",
       "       [-1.        , -1.84880698, -1.52888777],\n",
       "       [-1.        , -1.68244354, -1.46100428],\n",
       "       [-1.        , -2.95146614, -3.00490715],\n",
       "       [-1.        , -2.21102408, -1.95472856]])"
      ]
     },
     "execution_count": 17,
     "metadata": {},
     "output_type": "execute_result"
    }
   ],
   "source": [
    "x_bias[_wrong_classification[:, 0]]"
   ]
  },
  {
   "cell_type": "code",
   "execution_count": 25,
   "metadata": {},
   "outputs": [],
   "source": [
    "learning_term = learning_rate / 2\n",
    "for _ in range(duration):\n",
    "    hard_limiter = np.where(x_bias @ weights > 0, 1, -1)\n",
    "\n",
    "    mapped_hard_limiter = vectorized_map(hard_limiter)\n",
    "    wrongly_assigned_points = mapped_hard_limiter != y.reshape(y.size, 1)\n",
    "    \n",
    "    hard_limiter_for_update = hard_limiter[wrongly_assigned_points[:, 0]]\n",
    "    x_bias_for_update = x_bias[wrongly_assigned_points[:, 0]]\n",
    "\n",
    "    # Correct the update formula by ensuring the target values (y) are used correctly in the update\n",
    "    update_factor = learning_term * (1 - hard_limiter_for_update)\n",
    "    weights = weights +  x_bias_for_update.T @ update_factor"
   ]
  },
  {
   "cell_type": "code",
   "execution_count": 27,
   "metadata": {},
   "outputs": [
    {
     "data": {
      "text/plain": [
       "array([[-0.28      ],\n",
       "       [-1.78458195],\n",
       "       [-1.75380365]])"
      ]
     },
     "execution_count": 27,
     "metadata": {},
     "output_type": "execute_result"
    }
   ],
   "source": [
    "weights"
   ]
  },
  {
   "cell_type": "markdown",
   "metadata": {},
   "source": [
    "# plot"
   ]
  },
  {
   "cell_type": "code",
   "execution_count": 28,
   "metadata": {},
   "outputs": [],
   "source": [
    "x1_vals = np.linspace(min(X[:, 0]) - 1, max(X[:, 0]) + 1, 100)\n",
    "x2_vals = - (weights[0] + weights[1] * x1_vals) / weights[2]"
   ]
  },
  {
   "cell_type": "code",
   "execution_count": 29,
   "metadata": {},
   "outputs": [
    {
     "data": {
      "image/png": "[encoded data removed]",
      "text/plain": [
       "<Figure size 640x480 with 1 Axes>"
      ]
     },
     "metadata": {},
     "output_type": "display_data"
    }
   ],
   "source": [
    "plt.scatter(X[:,0], X[:,1], c=y)\n",
    "plt.plot(x1_vals, x2_vals, 'k-')\n",
    "plt.ylim(min(X[:, 1]) - 1, max(X[:, 1]) + 1)\n",
    "plt.title('Boundary')\n",
    "plt.show()"
   ]
  }
 ],
 "metadata": {
  "kernelspec": {
   "display_name": "perceptron",
   "language": "python",
   "name": "python3"
  },
  "language_info": {
   "codemirror_mode": {
    "name": "ipython",
    "version": 3
   },
   "file_extension": ".py",
   "mimetype": "text/x-python",
   "name": "python",
   "nbconvert_exporter": "python",
   "pygments_lexer": "ipython3",
   "version": "3.9.18"
  }
 },
 "nbformat": 4,
 "nbformat_minor": 2
}
